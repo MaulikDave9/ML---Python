{
 "cells": [
  {
   "cell_type": "markdown",
   "metadata": {},
   "source": [
    "# Advanced Business Analytics (CIS442D)\n",
    "\n",
    "## Homework Assignment 1\n",
    "### Due date: 1/10/2017 23:55\n",
    "### Submission Instructions\n",
    "1. Each student should submit an individual homework assignment.\n",
    "2. Discussing solutions with others is allowed.\n",
    "3. Copying solutions is prohibited.\n",
    "4. Late submissions will not be accepted.\n",
    "5. Write your solutions in Jupyter IPython notebooks. Use markdown cells to format your document. Your solutions should be replicable, as it will be executed on the grader's computer.\n",
    "6. Solution files should be uploaded to Blackboard.\n",
    "---"
   ]
  },
  {
   "cell_type": "markdown",
   "metadata": {
    "collapsed": true
   },
   "source": [
    "# Problem 1: Strong Password Detection\n",
    "From\n",
    "\"Automate the Boring Stuff with Python: Practical Programming for Total Beginners\" by Al Sweigart (http://a.co/7Onl06W, https://automatetheboringstuff.com/chapter7/)\n",
    "\n",
    "Write a function that uses regular expressions to verify that a password string it is passed is strong. A strong password is defined as one that is at least eight characters long, contains both uppercase and lowercase characters, has at least one digit and does not contain space charachters (e.g., \" \", \\n, \\t). You may need to test the string against multiple regex patterns to validate its strength."
   ]
  },
  {
   "cell_type": "code",
   "execution_count": 40,
   "metadata": {
    "collapsed": false
   },
   "outputs": [
    {
     "name": "stdout",
     "output_type": "stream",
     "text": [
      "('hello', 'Not Strong Password')\n",
      "('hello world', 'Not Strong Password')\n",
      "('helloworld', 'Not Strong Password')\n",
      "('helloWorld', 'Not Strong Password')\n",
      "('helloWorld9\\n', 'Not Strong Password')\n",
      "('helloWorld9', 'Strong Password')\n",
      "('aA0aA0aA0  ', 'Not Strong Password')\n",
      "('FinallyItShouldWork99', 'Strong Password')\n"
     ]
    }
   ],
   "source": [
    "# Solution to Problem (1):\n",
    "import re\n",
    "\n",
    "def test_password(s):\n",
    "            \n",
    "    result = \"Not Strong Password\"\n",
    "    if len(s) < 8: # at least 8 character long, why even eval if it's not the case\n",
    "        return (s,result)\n",
    "    #\"\\s\" space character re: [ \\t\\n\\r\\f\\v]\n",
    "    test= (not re.search(\"\\s\",s)) and re.search(\"[a-z]\",s) and re.search(\"[A-Z]\",s) and re.search(\"[0-9]\",s)\n",
    "    if test:\n",
    "        result = \"Strong Password\"\n",
    "    return (s,result)    \n",
    "    \n",
    "# test code \n",
    "print(test_password('hello')) \n",
    "print(test_password('hello world'))\n",
    "print(test_password('helloworld'))\n",
    "print(test_password('helloWorld'))\n",
    "print(test_password('helloWorld9\\n')) \n",
    "print(test_password('helloWorld9'))\n",
    "print(test_password('aA0aA0aA0  '))\n",
    "print(test_password('FinallyItShouldWork99'))\n",
    "        "
   ]
  },
  {
   "cell_type": "markdown",
   "metadata": {
    "collapsed": true
   },
   "source": [
    "# Problem 2: Caeser cipher\n",
    "Read more at: https://inventwithpython.com/hacking/chapter1.html and https://en.wikipedia.org/wiki/Caesar_cipher\n",
    "\n",
    "Caesar cipher is a simple text encryption technique where each letter is substituted by another letter in some fixed distance n. For example, for n=1 the word \"bat\" is encrypted to \"cbu\" (the first letter c replaces b, b replaces a, and u replaces t), and the word \"zebra\" is replaced by \"afcsb\". Similarly, for n=2, the word \"bat\" is encrypted to \"dcv\". \n",
    "\n",
    "1. write the function encrypt(s,n), which encrypts the word s by a shift of n letters. \n",
    "2. write the function decrypt(s,n), which decrypts an encoded word s.\n",
    "3. encode the file novel.txt with n=7 and save it as \"novel_encoded.txt\"\n",
    "4. decode the file \"novel_encoded.txt\" to \"novel_decoded.txt\". Make sure the files are identical.\n",
    "5. the file \"mystery.txt\" contains an encoded novel. Decipher the book and save it under \"mystery_decoded.txt\". What is the title of the book?\n",
    "\n",
    "Note: you may ignore non-alphabet characters"
   ]
  },
  {
   "cell_type": "code",
   "execution_count": 41,
   "metadata": {
    "collapsed": false
   },
   "outputs": [
    {
     "name": "stdout",
     "output_type": "stream",
     "text": [
      "True\n"
     ]
    }
   ],
   "source": [
    "# Solution to Problem (2):\n",
    "#1.function encrypt(s,n), which encrypts the word s by a shift of n letters.\n",
    "\n",
    "import filecmp\n",
    "alphabet_l = ['a', 'b', 'c', 'd', 'e', 'f', 'g', 'h', 'i', 'j', 'k', 'l', 'm', 'n', 'o', 'p', 'q', 'r', 's', 't', 'u', 'v', 'w', 'x', 'y', 'z']\n",
    "alphabet_u = ['A', 'B', 'C', 'D', 'E', 'F', 'G', 'H', 'I', 'J', 'K', 'L', 'M', 'N', 'O', 'P', 'Q', 'R', 'S', 'T', 'U', 'V', 'W', 'X', 'Y', 'Z']\n",
    "\n",
    "def encrypt(s,n):\n",
    "    \n",
    "    cipher = \"\";\n",
    "    for ch in s:\n",
    "        if (ord(ch) >= ord('a') and ord(ch) <= ord('z')): \n",
    "            cipher += alphabet_l[(alphabet_l.index(ch)+n)%26]\n",
    "        elif (ord(ch) >= ord('A') and ord(ch) <= ord('Z')):\n",
    "            cipher += alphabet_u[(alphabet_u.index(ch)+n)%26]\n",
    "        else:\n",
    "            cipher +=ch\n",
    "    return cipher\n",
    "\n",
    "###############################################################################################    \n",
    "#2.function decrypt(s,n), which decrypts an encoded word s.\n",
    "def decrypt(cipher,n):\n",
    "    \n",
    "    s = \"\";\n",
    "    for ch in cipher:\n",
    "        if (ord(ch) >= ord('a') and ord(ch) <= ord('z')):\n",
    "            s += alphabet_l[(alphabet_l.index(ch)-n)%26]\n",
    "        elif (ord(ch) >= ord('A') and ord(ch) <= ord('Z')):\n",
    "            s += alphabet_u[(alphabet_u.index(ch)-n)%26]    \n",
    "        else:\n",
    "            s += ch\n",
    "    return s\n",
    "\n",
    "##############################################################################################\n",
    "#3. encode the file novel.txt with n=7 and save it as \"novel_encoded.txt\"\n",
    "\n",
    "# Read from input file, encrypt full line and write to output file.\n",
    "with open('novel.txt') as f, open(\"novel_encoded.txt\", \"w\") as fo:\n",
    "    for line in f:\n",
    "        fo.write(encrypt(line, 7))\n",
    "        \n",
    "f.close()\n",
    "fo.close()\n",
    "\n",
    "####################################################################################################\n",
    "#4. decode the file \"novel_encoded.txt\" to \"novel_decoded.txt\". Make sure the files are identical.\n",
    "\n",
    "with open('novel_encoded.txt') as f, open(\"novel_decoded.txt\", \"w\") as fo:\n",
    "    for line in f:\n",
    "        fo.write(decrypt(line, 7))\n",
    "        \n",
    "f.close()\n",
    "fo.close()\n",
    "\n",
    "print(filecmp.cmp('novel_decoded.txt', 'novel.txt')) \n",
    "# True\n",
    "\n",
    "###################################################################################################\n",
    "#5. \"mystery.txt\" contains an encoded novel. Decipher the book and save it under \"mystery_decoded.txt\". \n",
    "\n",
    "# What is the title of the book:The Project Gutenberg EBook of A Christmas Carol, by Charles Dickens\n",
    "\n",
    "with open('mystery.txt') as f, open(\"mystery_decoded.txt\", \"w\") as fo:\n",
    "    for line in f:\n",
    "        fo.write(decrypt(line, 20)) # brute force w = 1,2,...26 and w=20 makes sense!\n",
    "        \n",
    "f.close()\n",
    "fo.close()\n"
   ]
  },
  {
   "cell_type": "markdown",
   "metadata": {
    "collapsed": true
   },
   "source": [
    "# Exercise 3 (IPython)\n",
    "In this exercise, you will implement a sorting algorithm in Python and measure its performance. \n",
    "  1. Implemenet the function _mysort(l)_ which receives a list _l_ and returns a sorted copy. Explain your algorithm.\n",
    "  2. Apply the function on the following lists: \n",
    "    1. [ ] (the empty list)\n",
    "    2. [4,1,2,6,1]\n",
    "    3. Generate a random list with 100 numbers (you may use numpy.random.randint). Compare the output of your function with numpy.sort (notice the object types that each function returns)\n",
    "  3. Denote by _d_ the length of the random list. Compare the running time of the functions mysort and numpy.sort on 10 different instances for d=10, 100, 1000, and 10000.\n",
    "  4. Which function ran faster? why?\n",
    "  "
   ]
  },
  {
   "cell_type": "code",
   "execution_count": 42,
   "metadata": {
    "collapsed": false
   },
   "outputs": [],
   "source": [
    "# Solution to Problem (3.1):\n",
    "# Algorthm: \"Insertion Sort\": Start at the second index of list and insert each element encountered in correct position. \n",
    "# Assumption:  List is either empty or it contains Integers.\n",
    "def mysort(l):\n",
    "    for i in range(1,len(l)):\n",
    "        j = i\n",
    "        while (j > 0) and (l[j] < l[j-1]):\n",
    "            l[j],l[j-1] = l[j-1],l[j] #swapping\n",
    "            j -= 1\n",
    "    return (l)\n"
   ]
  },
  {
   "cell_type": "code",
   "execution_count": 43,
   "metadata": {
    "collapsed": false
   },
   "outputs": [
    {
     "name": "stdout",
     "output_type": "stream",
     "text": [
      "[]\n",
      "[1, 1, 2, 4, 6]\n",
      "[  6  13  17  18  40  76  85  90  93  95 102 108 118 120 134 158 159 169\n",
      " 170 172 181 188 188 189 204 246 253 254 262 273 276 282 286 293 296 315\n",
      " 320 324 324 332 351 357 376 388 391 392 404 412 415 428 440 440 451 454\n",
      " 464 509 514 520 533 537 541 543 561 564 592 611 623 630 633 636 637 667\n",
      " 684 690 712 722 735 746 758 802 815 824 833 835 840 851 872 878 893 895\n",
      " 909 911 921 922 932 943 947 963 981 988]\n",
      "[  6  13  17  18  40  76  85  90  93  95 102 108 118 120 134 158 159 169\n",
      " 170 172 181 188 188 189 204 246 253 254 262 273 276 282 286 293 296 315\n",
      " 320 324 324 332 351 357 376 388 391 392 404 412 415 428 440 440 451 454\n",
      " 464 509 514 520 533 537 541 543 561 564 592 611 623 630 633 636 637 667\n",
      " 684 690 712 722 735 746 758 802 815 824 833 835 840 851 872 878 893 895\n",
      " 909 911 921 922 932 943 947 963 981 988]\n"
     ]
    }
   ],
   "source": [
    "# write your solution to Problem (3.2) here\n",
    "\n",
    "print(mysort([]))\n",
    "print(mysort([4,1,2,6,1]))\n",
    "\n",
    "import numpy\n",
    "rl = numpy.random.randint(1,1000,size=100)\n",
    "print(mysort(rl))\n",
    "print(numpy.sort(rl))\n"
   ]
  },
  {
   "cell_type": "code",
   "execution_count": 46,
   "metadata": {
    "collapsed": false
   },
   "outputs": [
    {
     "name": "stdout",
     "output_type": "stream",
     "text": [
      "When size of the List is 10  ,mysort Average time for 10 instances: \n",
      "Wall time: 0 ns\n",
      "When size of the List is 10  ,numpy.sort Average time for 10 instances: \n",
      "Wall time: 499 µs\n",
      "When size of the List is 100  ,mysort Average time for 10 instances: \n",
      "Wall time: 2.51 ms\n",
      "When size of the List is 100  ,numpy.sort Average time for 10 instances: \n",
      "Wall time: 0 ns\n",
      "When size of the List is 1000  ,mysort Average time for 10 instances: \n",
      "Wall time: 194 ms\n",
      "When size of the List is 1000  ,numpy.sort Average time for 10 instances: \n",
      "Wall time: 501 µs\n",
      "When size of the List is 10000  ,mysort Average time for 10 instances: \n",
      "Wall time: 16.2 s\n",
      "When size of the List is 10000  ,numpy.sort Average time for 10 instances: \n",
      "Wall time: 990 µs\n"
     ]
    }
   ],
   "source": [
    "# Solution to Problem (3.3)\n",
    "# _d_ the length of the random list. Compare the running time of the functions mysort and numpy.sort on 10 different \n",
    "# instances for d=10, 100, 1000, and 10000.\n",
    "\n",
    "n=10\n",
    "\n",
    "d= [10, 100,1000, 10000]\n",
    "for j in d:\n",
    "    rl = numpy.random.randint(1,100,j)\n",
    "    print(\"When size of the List is\",j,\" ,mysort Average time for 10 instances: \")\n",
    "    %time for i in range(n): mysort(rl)\n",
    "    print(\"When size of the List is\",j,\" ,numpy.sort Average time for 10 instances: \")\n",
    "    %time for i in range(n): numpy.sort(rl)\n",
    "    "
   ]
  },
  {
   "cell_type": "markdown",
   "metadata": {
    "collapsed": true
   },
   "source": [
    "# Solution to Problem (3.4):\n",
    "# Which function ran faster? why?\n",
    "\n",
    "numpy.sort ran faster, and as length of random list (d) got larger, numpy.sort started performing much better.\n",
    "When implenting mysort, my focus was what would be the easiest to implement algorithm and not performance.  And numpy.sort is build-in function with emphasis on performance and even allows specific algorithm e.g. Quick sort etc. with someone who knows more about what kind of algoritm would work best with specific inputs.\n",
    "\n",
    "\n"
   ]
  },
  {
   "cell_type": "markdown",
   "metadata": {},
   "source": [
    "# Exercise 4 (OS shell commands)\n",
    "In this exercise, you will use shell commands to process a data file. The file name is \"CrimeStatebyState - clean.csv\" (downloaded from [here](https://ucr.fbi.gov/)). \n"
   ]
  },
  {
   "cell_type": "markdown",
   "metadata": {},
   "source": [
    "### 4.1 cat\n",
    "\n",
    "Print the file to the screen. Make sure the file is in your current working directory by running !pwd and !ls. Use the command cd to change the current working directory. Double click left to the output pane to hide or minimize the output pane."
   ]
  },
  {
   "cell_type": "markdown",
   "metadata": {
    "collapsed": false,
    "scrolled": true
   },
   "source": [
    "# write your solution to Problem (4.1) here\n",
    "!pwd\n",
    "!ls\n",
    "!cat \"CrimeStatebyState - clean.csv\""
   ]
  },
  {
   "cell_type": "markdown",
   "metadata": {},
   "source": [
    "### 4.2 head\n",
    "\n",
    "Use the command head to print the first 7 rows of the file \"CrimeStatebyState - clean.csv\" "
   ]
  },
  {
   "cell_type": "code",
   "execution_count": 57,
   "metadata": {
    "collapsed": false
   },
   "outputs": [
    {
     "name": "stdout",
     "output_type": "stream",
     "text": [
      "State,Year,Population,Violent crime total,Murder and nonnegligent Manslaughter,Forcible rape,Robbery,Aggravated assault,Property crime total,Burglary,Larceny-theft,Motor vehicle theft,Violent Crime rate,Murder and nonnegligent manslaughter rate,Forcible rape rate,Robbery rate,Aggravated assault rate,Property crime rate,Burglary rate,Larceny-theft rate,Motor vehicle theft rate\n",
      "Alabama,1960,3266740,6097,406,281,898,4512,33823,11626,19344,2853,186.6,12.4,8.6,27.5,138.1,1035.4,355.9,592.1,87.3\n",
      "Alabama,1961,3302000,5564,427,252,630,4255,32541,11205,18801,2535,168.5,12.9,7.6,19.1,128.9,985.5,339.3,569.4,76.8\n",
      "Alabama,1962,3358000,5283,316,218,754,3995,35829,11722,21306,2801,157.3,9.4,6.5,22.5,119,1067,349.1,634.5,83.4\n",
      "Alabama,1963,3347000,6115,340,192,828,4755,38521,12614,22874,3033,182.7,10.2,5.7,24.7,142.1,1150.9,376.9,683.4,90.6\n",
      "Alabama,1964,3407000,7260,316,397,992,5555,46290,15898,26713,3679,213.1,9.3,11.7,29.1,163,1358.7,466.6,784.1,108\n",
      "Alabama,1965,3462000,6916,395,367,992,5162,48215,16398,28115,3702,199.8,11.4,10.6,28.7,149.1,1392.7,473.7,812.1,106.9\n"
     ]
    }
   ],
   "source": [
    "# write your solution to Problem (4.2) here\n",
    "!head -7 \"CrimeStatebyState - clean.csv\"\n"
   ]
  },
  {
   "cell_type": "markdown",
   "metadata": {},
   "source": [
    "### 4.3 grep/egrep\n",
    "The commands grep and egrep can be used to filter lines from files that match certain patterns. This is particulary useful when analyzing data files that cannot fit in memory, but in which the data of interest is relatively small (small enough to fit memory).  \n",
    "\n",
    "Run the following commands\n",
    "  - !egrep \"^(Alabama|State)\" \"CrimeStatebyState - clean.csv\" > alabama.csv\n",
    "  - !cat alabama.csv\n",
    "  \n",
    "Compare the files \"CrimeStatebyState - clean.csv\" and \"alabama.csv\" (the latter was generated by your run). \n",
    "Explain the relation between the two files."
   ]
  },
  {
   "cell_type": "code",
   "execution_count": 59,
   "metadata": {
    "collapsed": false,
    "scrolled": true
   },
   "outputs": [
    {
     "name": "stdout",
     "output_type": "stream",
     "text": [
      "State,Year,Population,Violent crime total,Murder and nonnegligent Manslaughter,Forcible rape,Robbery,Aggravated assault,Property crime total,Burglary,Larceny-theft,Motor vehicle theft,Violent Crime rate,Murder and nonnegligent manslaughter rate,Forcible rape rate,Robbery rate,Aggravated assault rate,Property crime rate,Burglary rate,Larceny-theft rate,Motor vehicle theft rate\n",
      "Alabama,1960,3266740,6097,406,281,898,4512,33823,11626,19344,2853,186.6,12.4,8.6,27.5,138.1,1035.4,355.9,592.1,87.3\n",
      "Alabama,1961,3302000,5564,427,252,630,4255,32541,11205,18801,2535,168.5,12.9,7.6,19.1,128.9,985.5,339.3,569.4,76.8\n",
      "Alabama,1962,3358000,5283,316,218,754,3995,35829,11722,21306,2801,157.3,9.4,6.5,22.5,119,1067,349.1,634.5,83.4\n",
      "Alabama,1963,3347000,6115,340,192,828,4755,38521,12614,22874,3033,182.7,10.2,5.7,24.7,142.1,1150.9,376.9,683.4,90.6\n",
      "Alabama,1964,3407000,7260,316,397,992,5555,46290,15898,26713,3679,213.1,9.3,11.7,29.1,163,1358.7,466.6,784.1,108\n",
      "Alabama,1965,3462000,6916,395,367,992,5162,48215,16398,28115,3702,199.8,11.4,10.6,28.7,149.1,1392.7,473.7,812.1,106.9\n",
      "Alabama,1966,3517000,8098,384,341,1124,6249,53740,18551,30583,4606,230.3,10.9,9.7,32,177.7,1528,527.5,869.6,131\n",
      "Alabama,1967,3540000,8448,415,371,1167,6495,57079,20227,31682,5170,238.6,11.7,10.5,33,183.5,1612.4,571.4,895,146\n",
      "Alabama,1968,3566000,8288,421,396,1462,6009,62997,22403,34508,6086,232.4,11.8,11.1,41,168.5,1766.6,628.2,967.7,170.7\n",
      "Alabama,1969,3531000,8842,485,494,1448,6415,66248,23559,36644,6045,250.4,13.7,14,41,181.7,1876.2,667.2,1037.8,171.2\n",
      "Alabama,1970,3444165,10185,404,637,1731,7413,75214,26739,40779,7696,295.7,11.7,18.5,50.3,215.2,2183.8,776.4,1184,223.5\n",
      "Alabama,1971,3479000,10835,524,661,2005,7645,76084,27547,40841,7696,311.4,15.1,19,57.6,219.7,2187,791.8,1173.9,221.2\n",
      "Alabama,1972,3510000,10994,496,660,2407,7431,73053,27714,38493,6846,313.2,14.1,18.8,68.6,211.7,2081.3,789.6,1096.7,195\n",
      "Alabama,1973,3539000,12390,468,751,2809,8362,78999,31754,39206,8039,350.1,13.2,21.2,79.4,236.3,2232.2,897.3,1107.8,227.2\n",
      "Alabama,1974,3577000,13338,536,811,3562,8429,93976,37841,46813,9322,372.9,15,22.7,99.6,235.6,2627.2,1057.9,1308.7,260.6\n",
      "Alabama,1975,3614000,14201,577,738,4446,8440,111296,42059,59470,9767,392.9,16,20.4,123,233.5,3079.6,1163.8,1645.5,270.3\n",
      "Alabama,1976,3665000,14248,553,794,3520,9381,125325,42879,72832,9614,388.8,15.1,21.7,96,256,3419.5,1170,1987.2,262.3\n",
      "Alabama,1977,3690000,15293,524,929,3572,10268,121702,41901,69442,10359,414.4,14.2,25.2,96.8,278.3,3298.2,1135.5,1881.9,280.7\n",
      "Alabama,1978,3742000,15682,499,954,3708,10521,131707,46001,74387,11319,419.1,13.3,25.5,99.1,281.2,3519.7,1229.3,1987.9,302.5\n",
      "Alabama,1979,3769000,15578,496,1037,4127,9918,144372,48517,83791,12064,413.3,13.2,27.5,109.5,263.1,3830.5,1287.3,2223.2,320.1\n",
      "Alabama,1980,3861466,17320,509,1158,5102,10551,173191,58952,102029,12210,448.5,13.2,30,132.1,273.2,4485.1,1526.7,2642.2,316.2\n",
      "Alabama,1981,3916000,18423,465,1021,4952,11985,173411,56811,105471,11129,470.5,11.9,26.1,126.5,306.1,4428.3,1450.7,2693.3,284.2\n",
      "Alabama,1982,3943000,17653,417,1026,4417,11793,165048,49531,104740,10777,447.7,10.6,26,112,299.1,4185.8,1256.2,2656.4,273.3\n",
      "Alabama,1983,3959000,16471,364,931,3895,11281,145890,42485,94279,9126,416,9.2,23.5,98.4,284.9,3685,1073.1,2381.4,230.5\n",
      "Alabama,1984,3990000,17204,374,1002,3833,11995,138487,39970,89198,9319,431.2,9.4,25.1,96.1,300.6,3470.9,1001.8,2235.5,233.6\n",
      "Alabama,1985,4021000,18398,396,1079,4237,12686,140115,41612,88108,10395,457.5,9.8,26.8,105.4,315.5,3484.6,1034.9,2191.2,258.5\n",
      "Alabama,1986,4053000,22616,409,1150,4523,16534,151191,46974,93396,10821,558,10.1,28.4,111.6,407.9,3730.3,1159,2304.4,267\n",
      "Alabama,1987,4083000,22833,380,1137,4581,16735,158918,48927,99260,10731,559.2,9.3,27.8,112.2,409.9,3892.2,1198.3,2431.1,262.8\n",
      "Alabama,1988,4127000,23052,408,1228,4860,16556,165209,50920,103282,11007,558.6,9.9,29.8,117.8,401.2,4003.1,1233.8,2502.6,266.7\n",
      "Alabama,1989,4118000,24329,421,1276,5515,17117,166244,47224,106771,12249,590.8,10.2,31,133.9,415.7,4037,1146.8,2592.8,297.5\n",
      "Alabama,1990,4040587,28630,467,1319,5805,21039,169974,44585,111336,14053,708.6,11.6,32.6,143.7,520.7,4206.7,1103.4,2755.4,347.8\n",
      "Alabama,1991,4089000,34518,469,1455,6246,26348,184882,51873,118151,14858,844.2,11.5,35.6,152.8,644.4,4521.4,1268.6,2889.5,363.4\n",
      "Alabama,1992,4136000,36052,455,1704,6819,27074,181837,49053,117801,14983,871.7,11,41.2,164.9,654.6,4396.4,1186,2848.2,362.3\n",
      "Alabama,1993,4187000,32676,484,1471,6677,24044,171598,45578,111878,14142,780.4,11.6,35.1,159.5,574.3,4098.4,1088.6,2672,337.8\n",
      "Alabama,1994,4219000,28844,501,1487,7223,19633,178015,44064,119951,14000,683.7,11.9,35.2,171.2,465.3,4219.4,1044.4,2843.1,331.8\n",
      "Alabama,1995,4253000,26894,475,1350,7900,17169,179294,43586,120967,14741,632.4,11.2,31.7,185.8,403.7,4215.7,1024.8,2844.3,346.6\n",
      "Alabama,1996,4273000,24159,444,1397,7124,15194,181803,42821,123350,15632,565.4,10,33,167,356,4254.7,1002.1,2886.7,366\n",
      "Alabama,1997,4319000,24379,426,1396,6931,15626,186809,43786,127616,15407,564.5,9.9,32.3,160.5,361.8,4325.3,1013.8,2954.8,356.7\n",
      "Alabama,1998,4352000,22286,354,1443,5698,14791,177779,41965,120943,14871,512.1,8.1,33.2,130.9,339.9,4085,964.3,2779,341.7\n",
      "Alabama,1999,4369862,21421,345,1513,5297,14266,171398,38648,119616,13134,490.2,7.9,34.6,121.2,326.5,3922.3,884.4,2737.3,300.6\n",
      "Alabama,2000,4447100,21620,329,1482,5702,14107,180539,40331,127399,12809,486.2,7.4,33.3,128.2,317.2,4059.7,906.9,2864.8,288\n",
      "Alabama,2001,4468912,19582,379,1369,5584,12250,173253,40642,119992,12619,438.2,8.5,30.6,125,274.1,3876.8,909.4,2685,282.4\n",
      "Alabama,2002,4478896,19931,303,1664,5962,12002,180400,42578,123932,13890,445,6.8,37.2,133.1,268,4027.8,950.6,2767,310.1\n",
      "Alabama,2003,4503726,19331,299,1656,6038,11338,182241,43245,124039,14957,429.2,6.6,36.8,134.1,251.7,4046.4,960.2,2754.1,332.1\n",
      "Alabama,2004,4525375,19324,254,1742,6042,11286,182340,44666,123650,14024,427,5.6,38.5,133.5,249.4,4029.3,987,2732.4,309.9\n",
      "Alabama,2005,4548327,19678,374,1564,6447,11293,177393,43473,120780,13140,433,8.2,34.4,141.7,248.3,3900,955.8,2656,289\n",
      "Alabama,2006,4599030,19553,382,1646,7062,10463,181249,44780,121451,15018,425.2,8.3,35.8,153.6,227.5,3941,973.7,2640.8,326.5\n",
      "Alabama,2007,4627851,20775,412,1548,7398,11417,184082,45379,124465,14238,448.9,8.9,33.4,159.9,246.7,3977.7,980.6,2689.5,307.7\n",
      "Alabama,2008,4661900,21110,351,1618,7346,11795,190416,50411,126539,13466,452.8,7.5,34.7,157.6,253,4084.5,1081.3,2714.3,288.9\n",
      "Alabama,2009,4708708,21194,322,1504,6265,13103,178007,48844,118072,11091,450.1,6.8,31.9,133.1,278.3,3780.4,1037.3,2507.5,235.5\n",
      "Alabama,2010,4785401,18363,275,1355,4864,11869,168828,42484,115564,10780,383.7,5.7,28.3,101.6,248,3528,887.8,2414.9,225.3\n",
      "Alabama,2011,4803689,20166,299,1370,4906,13591,173192,51119,111411,10662,419.8,6.2,28.5,102.1,282.9,3605.4,1064.2,2319.3,222\n",
      "Alabama,2012,4822023,21693,342,1296,5020,15035,168878,47481,111523,9874,449.9,7.1,26.9,104.1,311.8,3502.2,984.7,2312.8,204.8\n"
     ]
    }
   ],
   "source": [
    "# write your solution to Problem (4.3) here\n",
    "!egrep \"^(Alabama|State)\" \"CrimeStatebyState - clean.csv\" > alabama.csv\n",
    "!cat alabama.csv\n"
   ]
  },
  {
   "cell_type": "markdown",
   "metadata": {},
   "source": [
    "### 4.4 cut\n",
    "\n",
    "The cut command can be used to extract information from each line. Run the following command:\n",
    "\n",
    "!cut -d\",\" -f1-3 \"CrimeStatebyState - clean.csv\" > \"CrimeStatebyState-cut.csv\"\n",
    "\n",
    "The parameter -d\",\" specifies the columns (field) delimeter (separator), while the parameter -f1-3 indicates that columns 1-3 should be extracted from each line. The \">\" sign indicates that the output should be redirected to the file \"CrimeStatebyState-cut.csv\" (otherwise, it is printed to screen). (You may run \"!cut --help\" for more information on additional parameters).\n",
    "\n",
    "Interpret (make an educated guess of) the data stored in the newly created file \"CrimeStatebyState-cut.csv\"."
   ]
  },
  {
   "cell_type": "code",
   "execution_count": 61,
   "metadata": {
    "collapsed": true
   },
   "outputs": [],
   "source": [
    "# write your solution to Problem (4.4) here\n",
    "!cut -d\",\" -f1-3 \"CrimeStatebyState - clean.csv\" > \"CrimeStatebyState-cut.csv\""
   ]
  },
  {
   "cell_type": "markdown",
   "metadata": {
    "collapsed": true
   },
   "source": [
    "Newly created file CrimeStatebyState-cut should have first three columns of data from the original file."
   ]
  }
 ],
 "metadata": {
  "anaconda-cloud": {},
  "kernelspec": {
   "display_name": "Python [conda root]",
   "language": "python",
   "name": "conda-root-py"
  },
  "language_info": {
   "codemirror_mode": {
    "name": "ipython",
    "version": 3
   },
   "file_extension": ".py",
   "mimetype": "text/x-python",
   "name": "python",
   "nbconvert_exporter": "python",
   "pygments_lexer": "ipython3",
   "version": "3.5.2"
  }
 },
 "nbformat": 4,
 "nbformat_minor": 1
}
