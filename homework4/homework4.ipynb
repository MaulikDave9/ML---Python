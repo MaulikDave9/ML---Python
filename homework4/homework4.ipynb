{
 "cells": [
  {
   "cell_type": "markdown",
   "metadata": {
    "collapsed": true
   },
   "source": [
    "# Advanced Business Analytics (CIS442D)\n",
    "\n",
    "## Homework Assignment 4\n",
    "### Due date: 2/9/2017 23:55\n",
    "### Submission Instructions\n",
    "1. Each student should submit an individual homework assignment.\n",
    "2. Discussing solutions with others is allowed.\n",
    "3. Copying solutions is prohibited.\n",
    "4. Late submissions will not be accepted.\n",
    "5. Write your solutions in Jupyter IPython notebooks. Use markdown cells to format your document. Your solutions should be replicable, as it will be executed on the grader's computer.\n",
    "6. Solution files should be uploaded to Blackboard.\n",
    "---"
   ]
  },
  {
   "cell_type": "markdown",
   "metadata": {},
   "source": [
    "# Exercise 1\n",
    "Based on exercise 7 in Chapter 9 in \"An Introduction to Statistical Learning, with applications in R\"  by G. James, D. Witten,  T. Hastie and R. Tibshirani (<a href=\"http://www-bcf.usc.edu/~gareth/ISL/\">Download</a>)\n",
    "\n",
    "In this problem, you will use various classification algorithms in order to\n",
    "predict whether a given car gets high or low gas mileage based on the data in the file 'Auto.csv'.\n",
    "1. Create a binary variable that takes on a 1 for cars with gas\n",
    "mileage above the median, and a 0 for cars with gas mileage\n",
    "below the median.\n",
    "2. Fit a support vector classifier to the data with various values\n",
    "of the parameter C, in order to predict whether a car gets high or low gas\n",
    "mileage. Report the cross-validation errors associated with different\n",
    "values of this parameter. Comment on your results. (see <a href=\"http://scikit-learn.org/stable/modules/generated/sklearn.svm.LinearSVC.html#sklearn.svm.LinearSVC\">LinearSVC</a>)\n",
    "3. Fit a classification tree to the data with various values\n",
    "of the parameters max_depth and min_samples_leaf, in order to predict whether a car gets high or low gas\n",
    "mileage. Report the cross-validation errors associated with different\n",
    "values of thes parametere. Comment on your results. (see <a href=\"http://scikit-learn.org/stable/modules/generated/sklearn.tree.DecisionTreeClassifier.html#sklearn.tree.DecisionTreeClassifier\">DecisionTreeClassifier</a>)\n",
    "4. Fit a random forest to the data with various values\n",
    "of the parameters tree depth, number of estimators, and maximal featuers, in order to predict whether a car gets high or low gas mileage. Report the cross-validation errors associated with different\n",
    "values of thes parameters. (see <a href=\"http://scikit-learn.org/stable/modules/generated/sklearn.ensemble.RandomForestClassifier.html\">RandomForestClassifier</a>)\n",
    "5. Make some plots to back up your assertions in (2)-(4)."
   ]
  },
  {
   "cell_type": "code",
   "execution_count": 164,
   "metadata": {
    "collapsed": false
   },
   "outputs": [
    {
     "data": {
      "text/html": [
       "<div>\n",
       "<table border=\"1\" class=\"dataframe\">\n",
       "  <thead>\n",
       "    <tr style=\"text-align: right;\">\n",
       "      <th></th>\n",
       "      <th>mpg</th>\n",
       "      <th>cylinders</th>\n",
       "      <th>displacement</th>\n",
       "      <th>weight</th>\n",
       "      <th>acceleration</th>\n",
       "      <th>year</th>\n",
       "      <th>origin</th>\n",
       "      <th>abovemedian</th>\n",
       "    </tr>\n",
       "  </thead>\n",
       "  <tbody>\n",
       "    <tr>\n",
       "      <th>count</th>\n",
       "      <td>397.000000</td>\n",
       "      <td>397.000000</td>\n",
       "      <td>397.000000</td>\n",
       "      <td>397.000000</td>\n",
       "      <td>397.000000</td>\n",
       "      <td>397.000000</td>\n",
       "      <td>397.000000</td>\n",
       "      <td>397.000000</td>\n",
       "    </tr>\n",
       "    <tr>\n",
       "      <th>mean</th>\n",
       "      <td>23.515869</td>\n",
       "      <td>5.458438</td>\n",
       "      <td>193.532746</td>\n",
       "      <td>2970.261965</td>\n",
       "      <td>15.555668</td>\n",
       "      <td>75.994962</td>\n",
       "      <td>1.574307</td>\n",
       "      <td>0.481108</td>\n",
       "    </tr>\n",
       "    <tr>\n",
       "      <th>std</th>\n",
       "      <td>7.825804</td>\n",
       "      <td>1.701577</td>\n",
       "      <td>104.379583</td>\n",
       "      <td>847.904119</td>\n",
       "      <td>2.749995</td>\n",
       "      <td>3.690005</td>\n",
       "      <td>0.802549</td>\n",
       "      <td>0.500273</td>\n",
       "    </tr>\n",
       "    <tr>\n",
       "      <th>min</th>\n",
       "      <td>9.000000</td>\n",
       "      <td>3.000000</td>\n",
       "      <td>68.000000</td>\n",
       "      <td>1613.000000</td>\n",
       "      <td>8.000000</td>\n",
       "      <td>70.000000</td>\n",
       "      <td>1.000000</td>\n",
       "      <td>0.000000</td>\n",
       "    </tr>\n",
       "    <tr>\n",
       "      <th>25%</th>\n",
       "      <td>17.500000</td>\n",
       "      <td>4.000000</td>\n",
       "      <td>104.000000</td>\n",
       "      <td>2223.000000</td>\n",
       "      <td>13.800000</td>\n",
       "      <td>73.000000</td>\n",
       "      <td>1.000000</td>\n",
       "      <td>0.000000</td>\n",
       "    </tr>\n",
       "    <tr>\n",
       "      <th>50%</th>\n",
       "      <td>23.000000</td>\n",
       "      <td>4.000000</td>\n",
       "      <td>146.000000</td>\n",
       "      <td>2800.000000</td>\n",
       "      <td>15.500000</td>\n",
       "      <td>76.000000</td>\n",
       "      <td>1.000000</td>\n",
       "      <td>0.000000</td>\n",
       "    </tr>\n",
       "    <tr>\n",
       "      <th>75%</th>\n",
       "      <td>29.000000</td>\n",
       "      <td>8.000000</td>\n",
       "      <td>262.000000</td>\n",
       "      <td>3609.000000</td>\n",
       "      <td>17.100000</td>\n",
       "      <td>79.000000</td>\n",
       "      <td>2.000000</td>\n",
       "      <td>1.000000</td>\n",
       "    </tr>\n",
       "    <tr>\n",
       "      <th>max</th>\n",
       "      <td>46.600000</td>\n",
       "      <td>8.000000</td>\n",
       "      <td>455.000000</td>\n",
       "      <td>5140.000000</td>\n",
       "      <td>24.800000</td>\n",
       "      <td>82.000000</td>\n",
       "      <td>3.000000</td>\n",
       "      <td>1.000000</td>\n",
       "    </tr>\n",
       "  </tbody>\n",
       "</table>\n",
       "</div>"
      ],
      "text/plain": [
       "              mpg   cylinders  displacement       weight  acceleration  \\\n",
       "count  397.000000  397.000000    397.000000   397.000000    397.000000   \n",
       "mean    23.515869    5.458438    193.532746  2970.261965     15.555668   \n",
       "std      7.825804    1.701577    104.379583   847.904119      2.749995   \n",
       "min      9.000000    3.000000     68.000000  1613.000000      8.000000   \n",
       "25%     17.500000    4.000000    104.000000  2223.000000     13.800000   \n",
       "50%     23.000000    4.000000    146.000000  2800.000000     15.500000   \n",
       "75%     29.000000    8.000000    262.000000  3609.000000     17.100000   \n",
       "max     46.600000    8.000000    455.000000  5140.000000     24.800000   \n",
       "\n",
       "             year      origin  abovemedian  \n",
       "count  397.000000  397.000000   397.000000  \n",
       "mean    75.994962    1.574307     0.481108  \n",
       "std      3.690005    0.802549     0.500273  \n",
       "min     70.000000    1.000000     0.000000  \n",
       "25%     73.000000    1.000000     0.000000  \n",
       "50%     76.000000    1.000000     0.000000  \n",
       "75%     79.000000    2.000000     1.000000  \n",
       "max     82.000000    3.000000     1.000000  "
      ]
     },
     "execution_count": 164,
     "metadata": {},
     "output_type": "execute_result"
    }
   ],
   "source": [
    "#Exercise 1 (1): Binary variable = 1 if cars gas mileage above median, 0 if below median\n",
    "from sklearn import svm \n",
    "from sklearn.model_selection import cross_val_score\n",
    "from sklearn.svm import LinearSVC\n",
    "from sklearn import tree\n",
    "from sklearn.ensemble import BaggingClassifier\n",
    "from sklearn.ensemble import RandomForestClassifier\n",
    "from sklearn.ensemble import AdaBoostClassifier\n",
    "from sklearn.model_selection import train_test_split\n",
    "from sklearn.model_selection import cross_val_score\n",
    "\n",
    "import pandas as pd\n",
    "import numpy as np\n",
    "import matplotlib.pyplot as plt\n",
    "import pydot_ng as pydot # visualization of trees (among many others)\n",
    "from IPython.display import Image # displaying images files in jupyter\n",
    "from IPython.display import IFrame # displaying pdf file in jupyter\n",
    "%matplotlib inline\n",
    "\n",
    "df = pd.read_csv('Auto.csv').dropna()\n",
    "# replace horsepower values that has ? with median of that column (=92)\n",
    "df.loc[32,'horsepower'] = 92\n",
    "df.loc[126,'horsepower'] = 92\n",
    "df.loc[330,'horsepower'] = 92\n",
    "df.loc[336,'horsepower'] = 92\n",
    "df.loc[354,'horsepower'] = 92\n",
    "mpg_med = df.mpg.median()\n",
    "df['abovemedian'] = np.where(df['mpg'] > mpg_med, 1, 0)\n",
    "df.tail()\n",
    "df.describe()\n"
   ]
  },
  {
   "cell_type": "code",
   "execution_count": 165,
   "metadata": {
    "collapsed": false
   },
   "outputs": [
    {
     "name": "stdout",
     "output_type": "stream",
     "text": [
      "[ 0.69135802  0.92405063  0.87341772  0.94936709  0.87341772]\n",
      "C=0.10 Accuracy: 0.86 (+/- 0.09)\n",
      "\n",
      "\n",
      "[ 0.75308642  0.94936709  0.89873418  0.96202532  0.82278481]\n",
      "C=1.00 Accuracy: 0.88 (+/- 0.08)\n",
      "\n",
      "\n",
      "[ 0.7037037   0.94936709  0.89873418  0.94936709  0.82278481]\n",
      "C=5.00 Accuracy: 0.86 (+/- 0.09)\n",
      "\n",
      "\n",
      "[ 0.71604938  0.94936709  0.89873418  0.94936709  0.81012658]\n",
      "C=10.00 Accuracy: 0.86 (+/- 0.09)\n",
      "\n",
      "\n"
     ]
    },
    {
     "data": {
      "text/plain": [
       "<matplotlib.axes._subplots.AxesSubplot at 0x23e8be8b550>"
      ]
     },
     "execution_count": 165,
     "metadata": {},
     "output_type": "execute_result"
    },
    {
     "data": {
      "image/png": "[encoded data removed]",
      "text/plain": [
       "<matplotlib.figure.Figure at 0x23e88ba4ba8>"
      ]
     },
     "metadata": {},
     "output_type": "display_data"
    }
   ],
   "source": [
    "# Exercise 1, (2) support vector classifier \n",
    "# various values of the parameter C, to predict whether a car gets high or low gas mileage. \n",
    "# Report the cross-validation errors associated with different values of this parameter.\n",
    "\n",
    "X_labels = ['cylinders','displacement','horsepower','weight','acceleration','year','origin']\n",
    "X = df[X_labels]\n",
    "Y = df['abovemedian']\n",
    "C_range = [0.1, 1, 5, 10]\n",
    "   \n",
    "#cross validation\n",
    "for C in C_range:\n",
    "    clf = svm.SVC(kernel='linear',C=C)  \n",
    "    scores = cross_val_score(clf, X, Y, cv=5)\n",
    "    print(scores)\n",
    "    print(\"C=%.2f Accuracy: %0.2f (+/- %0.2f)\" % (C,scores.mean(), scores.std()))  \n",
    "    print(\"\\n\")\n",
    "\n",
    "results=[]\n",
    "#for i in np.linspace(0.01,1,100): \n",
    "for i in np.logspace(-3, 1, 10):\n",
    "    clf = svm.SVC(kernel='linear',C=i)  \n",
    "    scores = cross_val_score(clf, X, Y, cv=5)\n",
    "    results.append([i,scores.mean(), scores.std()])\n",
    "    \n",
    "df_accuracy = pd.DataFrame(data=results,columns=['C','mean','std'])\n",
    "\n",
    "# plot test error per tree depth\n",
    "df_accuracy.plot.bar(x='C',y='mean',yerr='std')\n",
    "\n",
    "# Comment on the results:\n",
    "# It seems like for different values of C, Accuracy is not that much different ~86%.\n"
   ]
  },
  {
   "cell_type": "code",
   "execution_count": 162,
   "metadata": {
    "collapsed": false
   },
   "outputs": [
    {
     "name": "stdout",
     "output_type": "stream",
     "text": [
      "depth 1, mean 0.89, std 0.03 [ 0.9382716   0.91139241  0.86075949  0.86075949  0.86075949]\n",
      "depth 2, mean 0.79, std 0.10 [ 0.64197531  0.91139241  0.82278481  0.86075949  0.70886076]\n",
      "depth 3, mean 0.78, std 0.09 [ 0.64197531  0.84810127  0.84810127  0.84810127  0.70886076]\n",
      "depth 4, mean 0.77, std 0.08 [ 0.64197531  0.83544304  0.84810127  0.83544304  0.70886076]\n",
      "depth 5, mean 0.78, std 0.11 [ 0.62962963  0.93670886  0.82278481  0.83544304  0.6835443 ]\n",
      "depth 6, mean 0.79, std 0.10 [ 0.61728395  0.88607595  0.83544304  0.86075949  0.73417722]\n",
      "depth 7, mean 0.75, std 0.09 [ 0.61728395  0.82278481  0.81012658  0.82278481  0.6835443 ]\n"
     ]
    },
    {
     "data": {
      "text/html": [
       "\n",
       "        <iframe\n",
       "            width=\"900\"\n",
       "            height=\"500\"\n",
       "            src=\"tree depth-1.pdf\"\n",
       "            frameborder=\"0\"\n",
       "            allowfullscreen\n",
       "        ></iframe>\n",
       "        "
      ],
      "text/plain": [
       "<IPython.lib.display.IFrame at 0x23e8a527dd8>"
      ]
     },
     "execution_count": 162,
     "metadata": {},
     "output_type": "execute_result"
    },
    {
     "data": {
      "image/png": "[encoded data removed]",
      "text/plain": [
       "<matplotlib.figure.Figure at 0x23e88b94ac8>"
      ]
     },
     "metadata": {},
     "output_type": "display_data"
    }
   ],
   "source": [
    "# Exercise 1, (3) Classification Tree:\n",
    "# with various values of the parameters max_depth and min_samples_leaf, \n",
    "# to predict whether a car gets high or low gas mileage. \n",
    "# Report the cross-validation errors associated with different values of thes parametere. \n",
    "\n",
    "\n",
    "# fit 7 models with depth ranging from 1 to 7\n",
    "for d in range(1,8):\n",
    "    pdf_file = \"tree depth-%d.pdf\"%d\n",
    "    clf = tree.DecisionTreeClassifier(max_depth=d)\n",
    "    clf = clf.fit(X,Y)\n",
    "    with open(\"tree.dot\", 'w') as f:\n",
    "        tree.export_graphviz(clf, out_file=f, feature_names=X_labels, filled=True, class_names=['No','Yes'])\n",
    "    pydot.graph_from_dot_file('tree.dot').write_pdf( pdf_file)\n",
    "    \n",
    "# change the parameter depth and compute test error\n",
    "results = []\n",
    "for d in range(1,8):\n",
    "    clf = tree.DecisionTreeClassifier(max_depth=d)\n",
    "    clf = clf.fit(X,Y)    \n",
    "    scores = cross_val_score(clf, X, Y, cv=5)\n",
    "    print('depth %d, mean %.2f, std %.2f'%(d,scores.mean(),scores.std()),scores)\n",
    "    results.append((d,scores.mean(), scores.std()))\n",
    "    \n",
    "df_tree_accuracy = pd.DataFrame(data=results,columns=['depth','mean','std'])\n",
    "df_tree_accuracy\n",
    "\n",
    "# plot test error per tree depth\n",
    "df_tree_accuracy.plot.bar(x='depth',y='mean',yerr='std', ylim=[0.5,1])\n",
    "\n",
    "IFrame('tree depth-1.pdf', width=900, height=500)\n",
    "\n",
    "#Comment on the results: \n",
    "# Tree with depth 1, gives ~89% accuracy for classification."
   ]
  },
  {
   "cell_type": "code",
   "execution_count": 163,
   "metadata": {
    "collapsed": false
   },
   "outputs": [
    {
     "data": {
      "text/html": [
       "<div>\n",
       "<table border=\"1\" class=\"dataframe\">\n",
       "  <thead>\n",
       "    <tr style=\"text-align: right;\">\n",
       "      <th></th>\n",
       "      <th>n</th>\n",
       "      <th>Bagging accuracy</th>\n",
       "      <th>Bagging error</th>\n",
       "      <th>RF accuracy</th>\n",
       "      <th>RF error</th>\n",
       "      <th>Single tree</th>\n",
       "    </tr>\n",
       "    <tr>\n",
       "      <th>n</th>\n",
       "      <th></th>\n",
       "      <th></th>\n",
       "      <th></th>\n",
       "      <th></th>\n",
       "      <th></th>\n",
       "      <th></th>\n",
       "    </tr>\n",
       "  </thead>\n",
       "  <tbody>\n",
       "    <tr>\n",
       "      <th>1</th>\n",
       "      <td>1</td>\n",
       "      <td>0.883857</td>\n",
       "      <td>0.034827</td>\n",
       "      <td>0.871199</td>\n",
       "      <td>0.047395</td>\n",
       "      <td>0.886388</td>\n",
       "    </tr>\n",
       "    <tr>\n",
       "      <th>2</th>\n",
       "      <td>2</td>\n",
       "      <td>0.863979</td>\n",
       "      <td>0.028163</td>\n",
       "      <td>0.873918</td>\n",
       "      <td>0.033405</td>\n",
       "      <td>0.886388</td>\n",
       "    </tr>\n",
       "    <tr>\n",
       "      <th>3</th>\n",
       "      <td>3</td>\n",
       "      <td>0.891452</td>\n",
       "      <td>0.030009</td>\n",
       "      <td>0.893983</td>\n",
       "      <td>0.032049</td>\n",
       "      <td>0.886388</td>\n",
       "    </tr>\n",
       "    <tr>\n",
       "      <th>4</th>\n",
       "      <td>4</td>\n",
       "      <td>0.886388</td>\n",
       "      <td>0.032520</td>\n",
       "      <td>0.883857</td>\n",
       "      <td>0.038331</td>\n",
       "      <td>0.886388</td>\n",
       "    </tr>\n",
       "    <tr>\n",
       "      <th>5</th>\n",
       "      <td>5</td>\n",
       "      <td>0.886388</td>\n",
       "      <td>0.032520</td>\n",
       "      <td>0.886388</td>\n",
       "      <td>0.033490</td>\n",
       "      <td>0.886388</td>\n",
       "    </tr>\n",
       "    <tr>\n",
       "      <th>6</th>\n",
       "      <td>6</td>\n",
       "      <td>0.878794</td>\n",
       "      <td>0.040958</td>\n",
       "      <td>0.886388</td>\n",
       "      <td>0.033490</td>\n",
       "      <td>0.886388</td>\n",
       "    </tr>\n",
       "    <tr>\n",
       "      <th>7</th>\n",
       "      <td>7</td>\n",
       "      <td>0.883857</td>\n",
       "      <td>0.034827</td>\n",
       "      <td>0.886388</td>\n",
       "      <td>0.038809</td>\n",
       "      <td>0.886388</td>\n",
       "    </tr>\n",
       "    <tr>\n",
       "      <th>8</th>\n",
       "      <td>8</td>\n",
       "      <td>0.891452</td>\n",
       "      <td>0.030009</td>\n",
       "      <td>0.878794</td>\n",
       "      <td>0.040958</td>\n",
       "      <td>0.886388</td>\n",
       "    </tr>\n",
       "    <tr>\n",
       "      <th>9</th>\n",
       "      <td>9</td>\n",
       "      <td>0.883857</td>\n",
       "      <td>0.034827</td>\n",
       "      <td>0.891452</td>\n",
       "      <td>0.038436</td>\n",
       "      <td>0.886388</td>\n",
       "    </tr>\n",
       "    <tr>\n",
       "      <th>10</th>\n",
       "      <td>10</td>\n",
       "      <td>0.881325</td>\n",
       "      <td>0.037678</td>\n",
       "      <td>0.886514</td>\n",
       "      <td>0.024490</td>\n",
       "      <td>0.886388</td>\n",
       "    </tr>\n",
       "    <tr>\n",
       "      <th>11</th>\n",
       "      <td>11</td>\n",
       "      <td>0.888920</td>\n",
       "      <td>0.032887</td>\n",
       "      <td>0.884044</td>\n",
       "      <td>0.022147</td>\n",
       "      <td>0.886388</td>\n",
       "    </tr>\n",
       "    <tr>\n",
       "      <th>12</th>\n",
       "      <td>12</td>\n",
       "      <td>0.883857</td>\n",
       "      <td>0.034827</td>\n",
       "      <td>0.883982</td>\n",
       "      <td>0.031814</td>\n",
       "      <td>0.886388</td>\n",
       "    </tr>\n",
       "    <tr>\n",
       "      <th>13</th>\n",
       "      <td>13</td>\n",
       "      <td>0.886388</td>\n",
       "      <td>0.032520</td>\n",
       "      <td>0.896515</td>\n",
       "      <td>0.029741</td>\n",
       "      <td>0.886388</td>\n",
       "    </tr>\n",
       "    <tr>\n",
       "      <th>14</th>\n",
       "      <td>14</td>\n",
       "      <td>0.886388</td>\n",
       "      <td>0.032520</td>\n",
       "      <td>0.888920</td>\n",
       "      <td>0.032887</td>\n",
       "      <td>0.886388</td>\n",
       "    </tr>\n",
       "    <tr>\n",
       "      <th>15</th>\n",
       "      <td>15</td>\n",
       "      <td>0.883857</td>\n",
       "      <td>0.034827</td>\n",
       "      <td>0.883982</td>\n",
       "      <td>0.025052</td>\n",
       "      <td>0.886388</td>\n",
       "    </tr>\n",
       "    <tr>\n",
       "      <th>16</th>\n",
       "      <td>16</td>\n",
       "      <td>0.881325</td>\n",
       "      <td>0.037678</td>\n",
       "      <td>0.891577</td>\n",
       "      <td>0.021012</td>\n",
       "      <td>0.886388</td>\n",
       "    </tr>\n",
       "    <tr>\n",
       "      <th>17</th>\n",
       "      <td>17</td>\n",
       "      <td>0.873855</td>\n",
       "      <td>0.034462</td>\n",
       "      <td>0.888920</td>\n",
       "      <td>0.035691</td>\n",
       "      <td>0.886388</td>\n",
       "    </tr>\n",
       "    <tr>\n",
       "      <th>18</th>\n",
       "      <td>18</td>\n",
       "      <td>0.886388</td>\n",
       "      <td>0.032520</td>\n",
       "      <td>0.891452</td>\n",
       "      <td>0.033058</td>\n",
       "      <td>0.886388</td>\n",
       "    </tr>\n",
       "    <tr>\n",
       "      <th>19</th>\n",
       "      <td>19</td>\n",
       "      <td>0.883857</td>\n",
       "      <td>0.034827</td>\n",
       "      <td>0.891452</td>\n",
       "      <td>0.034013</td>\n",
       "      <td>0.886388</td>\n",
       "    </tr>\n",
       "    <tr>\n",
       "      <th>20</th>\n",
       "      <td>20</td>\n",
       "      <td>0.878794</td>\n",
       "      <td>0.040958</td>\n",
       "      <td>0.891452</td>\n",
       "      <td>0.030009</td>\n",
       "      <td>0.886388</td>\n",
       "    </tr>\n",
       "    <tr>\n",
       "      <th>21</th>\n",
       "      <td>21</td>\n",
       "      <td>0.886388</td>\n",
       "      <td>0.032520</td>\n",
       "      <td>0.881325</td>\n",
       "      <td>0.043958</td>\n",
       "      <td>0.886388</td>\n",
       "    </tr>\n",
       "    <tr>\n",
       "      <th>22</th>\n",
       "      <td>22</td>\n",
       "      <td>0.883857</td>\n",
       "      <td>0.034827</td>\n",
       "      <td>0.896515</td>\n",
       "      <td>0.026311</td>\n",
       "      <td>0.886388</td>\n",
       "    </tr>\n",
       "    <tr>\n",
       "      <th>23</th>\n",
       "      <td>23</td>\n",
       "      <td>0.888920</td>\n",
       "      <td>0.030877</td>\n",
       "      <td>0.889045</td>\n",
       "      <td>0.020758</td>\n",
       "      <td>0.886388</td>\n",
       "    </tr>\n",
       "    <tr>\n",
       "      <th>24</th>\n",
       "      <td>24</td>\n",
       "      <td>0.886388</td>\n",
       "      <td>0.032520</td>\n",
       "      <td>0.886388</td>\n",
       "      <td>0.036248</td>\n",
       "      <td>0.886388</td>\n",
       "    </tr>\n",
       "    <tr>\n",
       "      <th>25</th>\n",
       "      <td>25</td>\n",
       "      <td>0.888920</td>\n",
       "      <td>0.030877</td>\n",
       "      <td>0.891452</td>\n",
       "      <td>0.030009</td>\n",
       "      <td>0.886388</td>\n",
       "    </tr>\n",
       "    <tr>\n",
       "      <th>26</th>\n",
       "      <td>26</td>\n",
       "      <td>0.883857</td>\n",
       "      <td>0.034827</td>\n",
       "      <td>0.891452</td>\n",
       "      <td>0.034013</td>\n",
       "      <td>0.886388</td>\n",
       "    </tr>\n",
       "    <tr>\n",
       "      <th>27</th>\n",
       "      <td>27</td>\n",
       "      <td>0.881325</td>\n",
       "      <td>0.037678</td>\n",
       "      <td>0.893983</td>\n",
       "      <td>0.027763</td>\n",
       "      <td>0.886388</td>\n",
       "    </tr>\n",
       "    <tr>\n",
       "      <th>28</th>\n",
       "      <td>28</td>\n",
       "      <td>0.883857</td>\n",
       "      <td>0.034827</td>\n",
       "      <td>0.893983</td>\n",
       "      <td>0.027763</td>\n",
       "      <td>0.886388</td>\n",
       "    </tr>\n",
       "    <tr>\n",
       "      <th>29</th>\n",
       "      <td>29</td>\n",
       "      <td>0.881325</td>\n",
       "      <td>0.037678</td>\n",
       "      <td>0.883857</td>\n",
       "      <td>0.036621</td>\n",
       "      <td>0.886388</td>\n",
       "    </tr>\n",
       "    <tr>\n",
       "      <th>30</th>\n",
       "      <td>30</td>\n",
       "      <td>0.886388</td>\n",
       "      <td>0.032520</td>\n",
       "      <td>0.891452</td>\n",
       "      <td>0.028921</td>\n",
       "      <td>0.886388</td>\n",
       "    </tr>\n",
       "    <tr>\n",
       "      <th>31</th>\n",
       "      <td>31</td>\n",
       "      <td>0.886388</td>\n",
       "      <td>0.032520</td>\n",
       "      <td>0.883982</td>\n",
       "      <td>0.026300</td>\n",
       "      <td>0.886388</td>\n",
       "    </tr>\n",
       "    <tr>\n",
       "      <th>32</th>\n",
       "      <td>32</td>\n",
       "      <td>0.883857</td>\n",
       "      <td>0.034827</td>\n",
       "      <td>0.883857</td>\n",
       "      <td>0.036621</td>\n",
       "      <td>0.886388</td>\n",
       "    </tr>\n",
       "    <tr>\n",
       "      <th>33</th>\n",
       "      <td>33</td>\n",
       "      <td>0.886388</td>\n",
       "      <td>0.032520</td>\n",
       "      <td>0.891452</td>\n",
       "      <td>0.030009</td>\n",
       "      <td>0.886388</td>\n",
       "    </tr>\n",
       "    <tr>\n",
       "      <th>34</th>\n",
       "      <td>34</td>\n",
       "      <td>0.886388</td>\n",
       "      <td>0.032520</td>\n",
       "      <td>0.886388</td>\n",
       "      <td>0.033490</td>\n",
       "      <td>0.886388</td>\n",
       "    </tr>\n",
       "    <tr>\n",
       "      <th>35</th>\n",
       "      <td>35</td>\n",
       "      <td>0.883857</td>\n",
       "      <td>0.034827</td>\n",
       "      <td>0.891452</td>\n",
       "      <td>0.030009</td>\n",
       "      <td>0.886388</td>\n",
       "    </tr>\n",
       "    <tr>\n",
       "      <th>36</th>\n",
       "      <td>36</td>\n",
       "      <td>0.883857</td>\n",
       "      <td>0.034827</td>\n",
       "      <td>0.886388</td>\n",
       "      <td>0.036248</td>\n",
       "      <td>0.886388</td>\n",
       "    </tr>\n",
       "    <tr>\n",
       "      <th>37</th>\n",
       "      <td>37</td>\n",
       "      <td>0.878794</td>\n",
       "      <td>0.040958</td>\n",
       "      <td>0.886388</td>\n",
       "      <td>0.033490</td>\n",
       "      <td>0.886388</td>\n",
       "    </tr>\n",
       "    <tr>\n",
       "      <th>38</th>\n",
       "      <td>38</td>\n",
       "      <td>0.883857</td>\n",
       "      <td>0.034827</td>\n",
       "      <td>0.893983</td>\n",
       "      <td>0.026583</td>\n",
       "      <td>0.886388</td>\n",
       "    </tr>\n",
       "    <tr>\n",
       "      <th>39</th>\n",
       "      <td>39</td>\n",
       "      <td>0.883857</td>\n",
       "      <td>0.034827</td>\n",
       "      <td>0.888920</td>\n",
       "      <td>0.032887</td>\n",
       "      <td>0.886388</td>\n",
       "    </tr>\n",
       "  </tbody>\n",
       "</table>\n",
       "</div>"
      ],
      "text/plain": [
       "     n  Bagging accuracy  Bagging error  RF accuracy  RF error  Single tree\n",
       "n                                                                          \n",
       "1    1          0.883857       0.034827     0.871199  0.047395     0.886388\n",
       "2    2          0.863979       0.028163     0.873918  0.033405     0.886388\n",
       "3    3          0.891452       0.030009     0.893983  0.032049     0.886388\n",
       "4    4          0.886388       0.032520     0.883857  0.038331     0.886388\n",
       "5    5          0.886388       0.032520     0.886388  0.033490     0.886388\n",
       "6    6          0.878794       0.040958     0.886388  0.033490     0.886388\n",
       "7    7          0.883857       0.034827     0.886388  0.038809     0.886388\n",
       "8    8          0.891452       0.030009     0.878794  0.040958     0.886388\n",
       "9    9          0.883857       0.034827     0.891452  0.038436     0.886388\n",
       "10  10          0.881325       0.037678     0.886514  0.024490     0.886388\n",
       "11  11          0.888920       0.032887     0.884044  0.022147     0.886388\n",
       "12  12          0.883857       0.034827     0.883982  0.031814     0.886388\n",
       "13  13          0.886388       0.032520     0.896515  0.029741     0.886388\n",
       "14  14          0.886388       0.032520     0.888920  0.032887     0.886388\n",
       "15  15          0.883857       0.034827     0.883982  0.025052     0.886388\n",
       "16  16          0.881325       0.037678     0.891577  0.021012     0.886388\n",
       "17  17          0.873855       0.034462     0.888920  0.035691     0.886388\n",
       "18  18          0.886388       0.032520     0.891452  0.033058     0.886388\n",
       "19  19          0.883857       0.034827     0.891452  0.034013     0.886388\n",
       "20  20          0.878794       0.040958     0.891452  0.030009     0.886388\n",
       "21  21          0.886388       0.032520     0.881325  0.043958     0.886388\n",
       "22  22          0.883857       0.034827     0.896515  0.026311     0.886388\n",
       "23  23          0.888920       0.030877     0.889045  0.020758     0.886388\n",
       "24  24          0.886388       0.032520     0.886388  0.036248     0.886388\n",
       "25  25          0.888920       0.030877     0.891452  0.030009     0.886388\n",
       "26  26          0.883857       0.034827     0.891452  0.034013     0.886388\n",
       "27  27          0.881325       0.037678     0.893983  0.027763     0.886388\n",
       "28  28          0.883857       0.034827     0.893983  0.027763     0.886388\n",
       "29  29          0.881325       0.037678     0.883857  0.036621     0.886388\n",
       "30  30          0.886388       0.032520     0.891452  0.028921     0.886388\n",
       "31  31          0.886388       0.032520     0.883982  0.026300     0.886388\n",
       "32  32          0.883857       0.034827     0.883857  0.036621     0.886388\n",
       "33  33          0.886388       0.032520     0.891452  0.030009     0.886388\n",
       "34  34          0.886388       0.032520     0.886388  0.033490     0.886388\n",
       "35  35          0.883857       0.034827     0.891452  0.030009     0.886388\n",
       "36  36          0.883857       0.034827     0.886388  0.036248     0.886388\n",
       "37  37          0.878794       0.040958     0.886388  0.033490     0.886388\n",
       "38  38          0.883857       0.034827     0.893983  0.026583     0.886388\n",
       "39  39          0.883857       0.034827     0.888920  0.032887     0.886388"
      ]
     },
     "execution_count": 163,
     "metadata": {},
     "output_type": "execute_result"
    }
   ],
   "source": [
    "# Exercise 1, (4)\n",
    "# Fit a random forest to the data with various values of the parameters tree depth, \n",
    "# number of estimators, and maximal featuers, in order to predict whether a car gets high or low gas mileage. Report the cross-validation errors associated with different values of thes parameters\n",
    "\n",
    "tree_depth = 1\n",
    "clf_tree = tree.DecisionTreeClassifier(max_depth=tree_depth)\n",
    "clf_tree = clf_tree.fit(X,Y)    \n",
    "clf_tree_scores = cross_val_score(clf_tree, X, Y, cv=5)\n",
    "\n",
    "# create a Bagging and RF classifier\n",
    "base_clf = tree.DecisionTreeClassifier(max_depth=tree_depth) # base classifier\n",
    "results = []\n",
    "n_range = range(1,40,1)\n",
    "for n in n_range:\n",
    "    # bagging classifier with n bootstrapped data sets\n",
    "    clf_bagging = BaggingClassifier(n_estimators=n, base_estimator=base_clf)\n",
    "    scores = cross_val_score(clf_bagging, X, Y, cv=5)\n",
    "    \n",
    "    # random forest classifier with n bootstrapped data sets m=sqrt(p)\n",
    "    clf_rf = RandomForestClassifier(max_features=\"sqrt\", n_estimators=n, max_depth=tree_depth)\n",
    "    clf_rf_scores = cross_val_score(clf_rf, X, Y, cv=5)\n",
    "\n",
    "    results.append((n,scores.mean(), scores.std(),clf_rf_scores.mean(),clf_rf_scores.std(),clf_tree_scores.mean()))\n",
    "    \n",
    "df_accuracy = pd.DataFrame(data=results,columns=['n','Bagging accuracy','Bagging error','RF accuracy','RF error','Single tree'])\n",
    "df_accuracy.index=df_accuracy['n']\n",
    "df_accuracy\n",
    "\n",
    "\n"
   ]
  },
  {
   "cell_type": "code",
   "execution_count": 158,
   "metadata": {
    "collapsed": false
   },
   "outputs": [
    {
     "data": {
      "text/plain": [
       "<matplotlib.axes._subplots.AxesSubplot at 0x23e887a7390>"
      ]
     },
     "execution_count": 158,
     "metadata": {},
     "output_type": "execute_result"
    },
    {
     "data": {
      "image/png": "[encoded data removed]",
      "text/plain": [
       "<matplotlib.figure.Figure at 0x23e8a55dc88>"
      ]
     },
     "metadata": {},
     "output_type": "display_data"
    }
   ],
   "source": [
    "# plot cross-validation results\n",
    "fig, axes = plt.subplots(1,3, figsize=(12,4))\n",
    "axes[0].axhline(y=clf_tree_scores.mean(),color='k',linestyle='-')\n",
    "axes[0].axhline(y=clf_tree_scores.mean()+clf_tree_scores.std(),color='k',linestyle='--')\n",
    "axes[0].axhline(y=clf_tree_scores.mean()-clf_tree_scores.std(),color='k',linestyle='--')\n",
    "axes[0].set_ylim([0.6,1])\n",
    "axes[0].set_title('Single tree')\n",
    "df_accuracy.plot(x='n',y='Bagging accuracy',ylim=[0.6,1],yerr='Bagging error',ax=axes[1],title='Bagging')\n",
    "df_accuracy.plot(x='n',y='RF accuracy',ylim=[0.6,1],yerr='RF error',ax=axes[2],title='Random forest')\n",
    "\n",
    "# Comment on results:\n",
    "# Random Forest gives ~90% accuracy (higher than SVM, Tree, Bagging)"
   ]
  },
  {
   "cell_type": "code",
   "execution_count": 159,
   "metadata": {
    "collapsed": false
   },
   "outputs": [
    {
     "data": {
      "text/plain": [
       "<matplotlib.axes._subplots.AxesSubplot at 0x23e8a543198>"
      ]
     },
     "execution_count": 159,
     "metadata": {},
     "output_type": "execute_result"
    },
    {
     "data": {
      "image/png": "[encoded data removed]",
      "text/plain": [
       "<matplotlib.figure.Figure at 0x23e88be9240>"
      ]
     },
     "metadata": {},
     "output_type": "display_data"
    }
   ],
   "source": [
    "df_accuracy[['Bagging accuracy','RF accuracy','Single tree']].plot()"
   ]
  },
  {
   "cell_type": "code",
   "execution_count": null,
   "metadata": {
    "collapsed": false
   },
   "outputs": [],
   "source": []
  },
  {
   "cell_type": "markdown",
   "metadata": {},
   "source": [
    "# Exercise 2: \n",
    "Chapter 8, exercise 1 in \"An Introduction to Statistical Learning, with applications in R\"  by G. James, D. Witten,  T. Hastie and R. Tibshirani (<a href=\"http://www-bcf.usc.edu/~gareth/ISL/\">Download</a>)\n"
   ]
  },
  {
   "cell_type": "markdown",
   "metadata": {
    "collapsed": true
   },
   "source": [
    "# write solution here\n",
    "Idea here is divide up XY plane with, regions of R1, R2, R3, R4, R5, R6 and define this regions given boundary values of X and Y.\n",
    "\n",
    "                        X < 50\n",
    "                        /   \\\n",
    "                    Y < 80   X < 80\n",
    "                    /    |   |    \\\n",
    "                 X < 25  R1  R2   Y < 30\n",
    "                 /    \\            /   \\\n",
    "                R3    R4          R5   R6\n",
    "                "
   ]
  },
  {
   "cell_type": "markdown",
   "metadata": {},
   "source": [
    "# Optional coding assignment\n",
    "This is an __optional__ exercise, which will be graded and counted towards the class participation component of your grade (it could only improve your grade).\n",
    "\n",
    "Read the first chapter in https://automatetheboringstuff.com/chapter2/ and solve the practice quetsions appearing at the end of the chapter."
   ]
  },
  {
   "cell_type": "markdown",
   "metadata": {
    "collapsed": true
   },
   "source": [
    "# Solution to Q1\n",
    "Boolean data type has two values: True (T), False(F).\n",
    "    "
   ]
  },
  {
   "cell_type": "markdown",
   "metadata": {
    "collapsed": true
   },
   "source": [
    "# Solution to Q2\n",
    "Boolean operators: AND, OR, NOT"
   ]
  },
  {
   "cell_type": "code",
   "execution_count": null,
   "metadata": {
    "collapsed": true
   },
   "outputs": [],
   "source": [
    "# Solution to Q3\n",
    "Truthtables for AND,OR, NOT.\n",
    "AND:\n",
    "    T AND T = T\n",
    "    T AND F = F\n",
    "    F AND T = F\n",
    "    F AND F = F\n",
    "\n",
    "OR:\n",
    "    T OR T = T\n",
    "    T OR F = T\n",
    "    F OR T = T\n",
    "    F OR F = F\n",
    "\n",
    "NOT:\n",
    "    NOT (T) = F\n",
    "    NOT (F) = T\n"
   ]
  },
  {
   "cell_type": "markdown",
   "metadata": {
    "collapsed": true
   },
   "source": [
    "# Solution to Q4\n",
    "(5 > 4) and (3==5) = T and F = False\n",
    "not (5 > 4) = not (T) = False\n",
    "(5 > 4) or (3 == 5) = T or F = True\n",
    "not ((5 > 4) or (3 == 5)) = not (T or F) = not(T) = False\n",
    "(True and True) and (True == False) = True and False = False\n",
    "(not False) or (not True) = True or False = True"
   ]
  },
  {
   "cell_type": "markdown",
   "metadata": {
    "collapsed": true
   },
   "source": [
    "# Solution to Q5\n",
    "Comparision operators: \n",
    "    == : Equal test\n",
    "    != : Not Equal to\n",
    "    <  : Less than\n",
    "    >  : Greater than\n",
    "    <= : Less than or equal to\n",
    "    >= : Greater than or equal to"
   ]
  },
  {
   "cell_type": "markdown",
   "metadata": {
    "collapsed": true
   },
   "source": [
    "# Solution to Q6\n",
    "equal to perator test for boolean, e.g. x ==5 will return true or false based on x value is 5 or not.\n",
    "assignment operatror assigns the value to right hand side what's in left side\n",
    "e.g. x = 5, will assign variable x will have value integer value 5.\n"
   ]
  },
  {
   "cell_type": "markdown",
   "metadata": {
    "collapsed": true
   },
   "source": [
    "# Solution to Q7\n",
    "Boolean expressions are conditions, it evaluates the boolean value True or False.  A flow control\n",
    "statement decides what to do next based on the condition."
   ]
  },
  {
   "cell_type": "markdown",
   "metadata": {
    "collapsed": true
   },
   "source": [
    "# Solution to Q8\n",
    "Block 1, starts line print('eggs')\n",
    "Inside block 1 has block 2:  print('bacon')\n",
    "block 3: print('spam')\n",
    "    "
   ]
  },
  {
   "cell_type": "code",
   "execution_count": 3,
   "metadata": {
    "collapsed": false
   },
   "outputs": [
    {
     "name": "stdout",
     "output_type": "stream",
     "text": [
      "0 Greetings!\n",
      "1 Hello\n",
      "2 Howdy\n",
      "3 Greetings!\n"
     ]
    }
   ],
   "source": [
    "# Solution to Q9\n",
    "spamlist = [0,1,2,3]\n",
    "for spam in spamlist:\n",
    "    if (spam == 1):\n",
    "        print(str(spam) + \" \" + \"Hello\")\n",
    "    elif (spam ==2):\n",
    "        print(str(spam) + \" \" + \"Howdy\")\n",
    "    else:\n",
    "        print(str(spam) + \" \" + \"Greetings!\")"
   ]
  },
  {
   "cell_type": "markdown",
   "metadata": {
    "collapsed": true
   },
   "source": [
    "# Solution to Q10\n",
    "Press CTRL-C if stuck in an infinite loop."
   ]
  },
  {
   "cell_type": "markdown",
   "metadata": {
    "collapsed": true
   },
   "source": [
    "# Solution to Q11\n",
    "break -- the program execution will exist when break statement is executed.\n",
    "continue -- used inside loops, program execution jumps back to the start of the loop and reevaluates the loops condition."
   ]
  },
  {
   "cell_type": "markdown",
   "metadata": {
    "collapsed": true
   },
   "source": [
    "# Solution to Q12\n",
    "for loop\n",
    "range(10) : loops 0 to 9.\n",
    "range(0,10) : loops 0 to 9. \n",
    "range(0,10,1) : loop 0 to 9\n",
    "\n",
    "So they all accomlishes the same thing."
   ]
  },
  {
   "cell_type": "code",
   "execution_count": 13,
   "metadata": {
    "collapsed": false
   },
   "outputs": [
    {
     "name": "stdout",
     "output_type": "stream",
     "text": [
      "For:\n",
      "1\n",
      "2\n",
      "3\n",
      "4\n",
      "5\n",
      "6\n",
      "7\n",
      "8\n",
      "9\n",
      "10\n",
      "While:\n",
      "1\n",
      "2\n",
      "3\n",
      "4\n",
      "5\n",
      "6\n",
      "7\n",
      "8\n",
      "9\n",
      "10\n"
     ]
    }
   ],
   "source": [
    "# Solution to Q13\n",
    "print (\"For:\")\n",
    "for i in range(10):\n",
    "    print (i+1)\n",
    "    \n",
    "print (\"While:\")\n",
    "i = 1;\n",
    "while (i < 11):\n",
    "    print (i)\n",
    "    i = i+1"
   ]
  },
  {
   "cell_type": "markdown",
   "metadata": {
    "collapsed": true
   },
   "source": [
    "# Solution to Q14\n",
    "import spam\n",
    "spam.bacon()\n",
    "\n",
    "\n"
   ]
  },
  {
   "cell_type": "code",
   "execution_count": 18,
   "metadata": {
    "collapsed": false
   },
   "outputs": [
    {
     "name": "stdout",
     "output_type": "stream",
     "text": [
      "1\n",
      "1\n",
      "0.5\n",
      "3.976\n"
     ]
    }
   ],
   "source": [
    "# Extra Credit\n",
    "# round() returns the floating point number rounded to ndigits after the decimal point.\n",
    "print(round(0.9999))\n",
    "print(round(0.56))\n",
    "\n",
    "#abs() returns absolute value of the number\n",
    "print(abs(-0.5))\n",
    "print(abs(-3.976))"
   ]
  },
  {
   "cell_type": "code",
   "execution_count": null,
   "metadata": {
    "collapsed": true
   },
   "outputs": [],
   "source": []
  }
 ],
 "metadata": {
  "anaconda-cloud": {},
  "kernelspec": {
   "display_name": "Python [conda root]",
   "language": "python",
   "name": "conda-root-py"
  },
  "language_info": {
   "codemirror_mode": {
    "name": "ipython",
    "version": 3
   },
   "file_extension": ".py",
   "mimetype": "text/x-python",
   "name": "python",
   "nbconvert_exporter": "python",
   "pygments_lexer": "ipython3",
   "version": "3.5.2"
  }
 },
 "nbformat": 4,
 "nbformat_minor": 0
}
