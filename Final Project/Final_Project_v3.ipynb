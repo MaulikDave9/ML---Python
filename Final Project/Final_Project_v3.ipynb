{
 "cells": [
  {
   "cell_type": "markdown",
   "metadata": {},
   "source": [
    "\n",
    "## Predict sentiment from tweeter text"
   ]
  },
  {
   "cell_type": "code",
   "execution_count": 155,
   "metadata": {
    "collapsed": true
   },
   "outputs": [],
   "source": [
    "import pandas as pd\n",
    "import numpy as np\n",
    "import re\n",
    "import string\n",
    "from collections import Counter\n",
    "\n",
    "from sklearn import svm\n",
    "from sklearn import tree\n",
    "from sklearn import cluster\n",
    "from sklearn.neighbors import KNeighborsClassifier\n",
    "from sklearn.model_selection import train_test_split\n",
    "from sklearn.model_selection import cross_val_score\n",
    "from sklearn.metrics import accuracy_score\n",
    "\n",
    "import scipy \n",
    "import scipy.stats as stats\n",
    "\n",
    "import nltk\n",
    "from nltk.tokenize import word_tokenize\n",
    "from nltk.corpus import stopwords\n",
    "\n",
    "import matplotlib.pyplot as plt\n",
    "from IPython.display import Image # displaying images files in jupyter\n",
    "from IPython.display import IFrame # displaying pdf file in jupyter"
   ]
  },
  {
   "cell_type": "code",
   "execution_count": 156,
   "metadata": {
    "collapsed": false
   },
   "outputs": [
    {
     "data": {
      "text/html": [
       "<div>\n",
       "<table border=\"1\" class=\"dataframe\">\n",
       "  <thead>\n",
       "    <tr style=\"text-align: right;\">\n",
       "      <th></th>\n",
       "      <th>airline_sentiment</th>\n",
       "      <th>airline_sentiment_confidence</th>\n",
       "      <th>negativereason</th>\n",
       "      <th>negativereason_confidence</th>\n",
       "      <th>airline</th>\n",
       "      <th>negativereason_gold</th>\n",
       "      <th>text</th>\n",
       "      <th>tweet_location</th>\n",
       "    </tr>\n",
       "  </thead>\n",
       "  <tbody>\n",
       "    <tr>\n",
       "      <th>0</th>\n",
       "      <td>neutral</td>\n",
       "      <td>1.0000</td>\n",
       "      <td>NaN</td>\n",
       "      <td>NaN</td>\n",
       "      <td>Virgin America</td>\n",
       "      <td>NaN</td>\n",
       "      <td>@VirginAmerica What @dhepburn said.</td>\n",
       "      <td>NaN</td>\n",
       "    </tr>\n",
       "    <tr>\n",
       "      <th>1</th>\n",
       "      <td>positive</td>\n",
       "      <td>0.3486</td>\n",
       "      <td>NaN</td>\n",
       "      <td>0.0000</td>\n",
       "      <td>Virgin America</td>\n",
       "      <td>NaN</td>\n",
       "      <td>@VirginAmerica plus you've added commercials t...</td>\n",
       "      <td>NaN</td>\n",
       "    </tr>\n",
       "    <tr>\n",
       "      <th>2</th>\n",
       "      <td>neutral</td>\n",
       "      <td>0.6837</td>\n",
       "      <td>NaN</td>\n",
       "      <td>NaN</td>\n",
       "      <td>Virgin America</td>\n",
       "      <td>NaN</td>\n",
       "      <td>@VirginAmerica I didn't today... Must mean I n...</td>\n",
       "      <td>Lets Play</td>\n",
       "    </tr>\n",
       "    <tr>\n",
       "      <th>3</th>\n",
       "      <td>negative</td>\n",
       "      <td>1.0000</td>\n",
       "      <td>Bad Flight</td>\n",
       "      <td>0.7033</td>\n",
       "      <td>Virgin America</td>\n",
       "      <td>NaN</td>\n",
       "      <td>@VirginAmerica it's really aggressive to blast...</td>\n",
       "      <td>NaN</td>\n",
       "    </tr>\n",
       "    <tr>\n",
       "      <th>4</th>\n",
       "      <td>negative</td>\n",
       "      <td>1.0000</td>\n",
       "      <td>Can't Tell</td>\n",
       "      <td>1.0000</td>\n",
       "      <td>Virgin America</td>\n",
       "      <td>NaN</td>\n",
       "      <td>@VirginAmerica and it's a really big bad thing...</td>\n",
       "      <td>NaN</td>\n",
       "    </tr>\n",
       "  </tbody>\n",
       "</table>\n",
       "</div>"
      ],
      "text/plain": [
       "  airline_sentiment  airline_sentiment_confidence negativereason  \\\n",
       "0           neutral                        1.0000            NaN   \n",
       "1          positive                        0.3486            NaN   \n",
       "2           neutral                        0.6837            NaN   \n",
       "3          negative                        1.0000     Bad Flight   \n",
       "4          negative                        1.0000     Can't Tell   \n",
       "\n",
       "   negativereason_confidence         airline negativereason_gold  \\\n",
       "0                        NaN  Virgin America                 NaN   \n",
       "1                     0.0000  Virgin America                 NaN   \n",
       "2                        NaN  Virgin America                 NaN   \n",
       "3                     0.7033  Virgin America                 NaN   \n",
       "4                     1.0000  Virgin America                 NaN   \n",
       "\n",
       "                                                text tweet_location  \n",
       "0                @VirginAmerica What @dhepburn said.            NaN  \n",
       "1  @VirginAmerica plus you've added commercials t...            NaN  \n",
       "2  @VirginAmerica I didn't today... Must mean I n...      Lets Play  \n",
       "3  @VirginAmerica it's really aggressive to blast...            NaN  \n",
       "4  @VirginAmerica and it's a really big bad thing...            NaN  "
      ]
     },
     "execution_count": 156,
     "metadata": {},
     "output_type": "execute_result"
    }
   ],
   "source": [
    "# Input and clean up data by removing columns not useful for analysis\n",
    "tweets = pd.read_csv('Tweets.csv')\n",
    "del tweets['tweet_id']\n",
    "del tweets['retweet_count']\n",
    "del tweets['tweet_coord']\n",
    "del tweets['name']\n",
    "del tweets['airline_sentiment_gold']\n",
    "del tweets['tweet_created']\n",
    "del tweets['user_timezone']\n",
    "tweets.head() "
   ]
  },
  {
   "cell_type": "code",
   "execution_count": 157,
   "metadata": {
    "collapsed": false
   },
   "outputs": [
    {
     "name": "stdout",
     "output_type": "stream",
     "text": [
      "Airlines:  ['Virgin America' 'United' 'Southwest' 'Delta' 'US Airways' 'American']\n",
      " \n",
      "Sentiment:  ['neutral' 'positive' 'negative']\n",
      " \n",
      "Negative comments:  ['Bad Flight' \"Can't Tell\" 'Late Flight' 'Customer Service Issue'\n",
      " 'Flight Booking Problems' 'Lost Luggage' 'Flight Attendant Complaints'\n",
      " 'Cancelled Flight' 'Damaged Luggage' 'longlines']\n",
      " \n",
      "Locations:  ['Lets Play' 'San Francisco CA' 'Los Angeles' ..., 'Columbus, OH, USA'\n",
      " 'Milwaukee County, Wisconsin' 'Nigeria,lagos']\n"
     ]
    }
   ],
   "source": [
    "# scanning data\n",
    "print (\"Airlines: \", tweets['airline'].dropna().unique())\n",
    "print (\" \")\n",
    "print (\"Sentiment: \", tweets['airline_sentiment'].dropna().unique())\n",
    "print (\" \")\n",
    "print (\"Negative comments: \", tweets['negativereason'].dropna().unique())\n",
    "print (\" \")\n",
    "print (\"Locations: \", tweets['tweet_location'].dropna().unique())"
   ]
  },
  {
   "cell_type": "code",
   "execution_count": 160,
   "metadata": {
    "collapsed": false
   },
   "outputs": [],
   "source": [
    "# function to clean up Twitter text\n",
    "def clean_tweet(str):\n",
    "\n",
    "    str = str.lower() \n",
    "    tokens = nltk.word_tokenize(str)                            # tokenize\n",
    "    tokens = [i for i in tokens if i not in string.punctuation] # remove punctuation\n",
    "    stop_words = set(stopwords.words('english'))\n",
    "    tokens = [i for i in tokens if i not in stop_words]  # remove stop words\n",
    "    tokens = [i for i in tokens if   not i.isdigit()]    # remove numbers\n",
    "    tokens = [i for i in tokens if i.isalnum()]          # remove alpha numeric characters\n",
    "\n",
    "    tokens = list(set(tokens)) # Remove duplicates.\n",
    "    #print(\"Length: \", len(tokens))\n",
    "    \n",
    "    clean_text = ' '.join(token for token in tokens) # string output, not list.\n",
    "    \n",
    "    return clean_text"
   ]
  },
  {
   "cell_type": "code",
   "execution_count": 161,
   "metadata": {
    "collapsed": false
   },
   "outputs": [
    {
     "data": {
      "text/html": [
       "<div>\n",
       "<table border=\"1\" class=\"dataframe\">\n",
       "  <thead>\n",
       "    <tr style=\"text-align: right;\">\n",
       "      <th></th>\n",
       "      <th>airline_sentiment</th>\n",
       "      <th>airline_sentiment_confidence</th>\n",
       "      <th>negativereason</th>\n",
       "      <th>negativereason_confidence</th>\n",
       "      <th>airline</th>\n",
       "      <th>negativereason_gold</th>\n",
       "      <th>text</th>\n",
       "      <th>tweet_location</th>\n",
       "      <th>clean_tweet</th>\n",
       "      <th>sentiment</th>\n",
       "    </tr>\n",
       "  </thead>\n",
       "  <tbody>\n",
       "    <tr>\n",
       "      <th>0</th>\n",
       "      <td>neutral</td>\n",
       "      <td>1.0000</td>\n",
       "      <td>NaN</td>\n",
       "      <td>NaN</td>\n",
       "      <td>Virgin America</td>\n",
       "      <td>NaN</td>\n",
       "      <td>@VirginAmerica What @dhepburn said.</td>\n",
       "      <td>NaN</td>\n",
       "      <td>dhepburn said virginamerica</td>\n",
       "      <td>1</td>\n",
       "    </tr>\n",
       "    <tr>\n",
       "      <th>1</th>\n",
       "      <td>positive</td>\n",
       "      <td>0.3486</td>\n",
       "      <td>NaN</td>\n",
       "      <td>0.0000</td>\n",
       "      <td>Virgin America</td>\n",
       "      <td>NaN</td>\n",
       "      <td>@VirginAmerica plus you've added commercials t...</td>\n",
       "      <td>NaN</td>\n",
       "      <td>plus tacky added experience commercials virgin...</td>\n",
       "      <td>1</td>\n",
       "    </tr>\n",
       "    <tr>\n",
       "      <th>2</th>\n",
       "      <td>neutral</td>\n",
       "      <td>0.6837</td>\n",
       "      <td>NaN</td>\n",
       "      <td>NaN</td>\n",
       "      <td>Virgin America</td>\n",
       "      <td>NaN</td>\n",
       "      <td>@VirginAmerica I didn't today... Must mean I n...</td>\n",
       "      <td>Lets Play</td>\n",
       "      <td>mean need another today trip take must virgina...</td>\n",
       "      <td>1</td>\n",
       "    </tr>\n",
       "    <tr>\n",
       "      <th>3</th>\n",
       "      <td>negative</td>\n",
       "      <td>1.0000</td>\n",
       "      <td>Bad Flight</td>\n",
       "      <td>0.7033</td>\n",
       "      <td>Virgin America</td>\n",
       "      <td>NaN</td>\n",
       "      <td>@VirginAmerica it's really aggressive to blast...</td>\n",
       "      <td>NaN</td>\n",
       "      <td>blast amp guests recourse obnoxious faces real...</td>\n",
       "      <td>-1</td>\n",
       "    </tr>\n",
       "    <tr>\n",
       "      <th>4</th>\n",
       "      <td>negative</td>\n",
       "      <td>1.0000</td>\n",
       "      <td>Can't Tell</td>\n",
       "      <td>1.0000</td>\n",
       "      <td>Virgin America</td>\n",
       "      <td>NaN</td>\n",
       "      <td>@VirginAmerica and it's a really big bad thing...</td>\n",
       "      <td>NaN</td>\n",
       "      <td>big really bad virginamerica thing</td>\n",
       "      <td>-1</td>\n",
       "    </tr>\n",
       "  </tbody>\n",
       "</table>\n",
       "</div>"
      ],
      "text/plain": [
       "  airline_sentiment  airline_sentiment_confidence negativereason  \\\n",
       "0           neutral                        1.0000            NaN   \n",
       "1          positive                        0.3486            NaN   \n",
       "2           neutral                        0.6837            NaN   \n",
       "3          negative                        1.0000     Bad Flight   \n",
       "4          negative                        1.0000     Can't Tell   \n",
       "\n",
       "   negativereason_confidence         airline negativereason_gold  \\\n",
       "0                        NaN  Virgin America                 NaN   \n",
       "1                     0.0000  Virgin America                 NaN   \n",
       "2                        NaN  Virgin America                 NaN   \n",
       "3                     0.7033  Virgin America                 NaN   \n",
       "4                     1.0000  Virgin America                 NaN   \n",
       "\n",
       "                                                text tweet_location  \\\n",
       "0                @VirginAmerica What @dhepburn said.            NaN   \n",
       "1  @VirginAmerica plus you've added commercials t...            NaN   \n",
       "2  @VirginAmerica I didn't today... Must mean I n...      Lets Play   \n",
       "3  @VirginAmerica it's really aggressive to blast...            NaN   \n",
       "4  @VirginAmerica and it's a really big bad thing...            NaN   \n",
       "\n",
       "                                         clean_tweet  sentiment  \n",
       "0                        dhepburn said virginamerica          1  \n",
       "1  plus tacky added experience commercials virgin...          1  \n",
       "2  mean need another today trip take must virgina...          1  \n",
       "3  blast amp guests recourse obnoxious faces real...         -1  \n",
       "4                 big really bad virginamerica thing         -1  "
      ]
     },
     "execution_count": 161,
     "metadata": {},
     "output_type": "execute_result"
    }
   ],
   "source": [
    "# Add clean tweets field.\n",
    "#print (tweets_train['text'][0])\n",
    "#print (clean_tweet(tweets_train['text'][0]))\n",
    "tweets['clean_tweet']= tweets['text'].apply(lambda s: clean_tweet(s))\n",
    "tweets['sentiment'] =  tweets['airline_sentiment'].apply(lambda x: -1 if x=='negative' else 1)\n",
    "tweets.head()"
   ]
  },
  {
   "cell_type": "code",
   "execution_count": 162,
   "metadata": {
    "collapsed": false
   },
   "outputs": [
    {
     "name": "stdout",
     "output_type": "stream",
     "text": [
      "Training:  (13176, 10)\n",
      "Test:  (1464, 10)\n"
     ]
    }
   ],
   "source": [
    "# Predictive Modeling\n",
    "\n",
    "tweets_train, tweets_test = train_test_split(tweets, test_size=0.10, random_state=42)\n",
    "print (\"Training: \", tweets_train.shape)\n",
    "print (\"Test: \", tweets_test.shape)\n",
    "\n",
    "# train and test clean tweets for training sentiment on words\n",
    "train_clean_tweet=[]\n",
    "for t in tweets_train['clean_tweet']:\n",
    "    train_clean_tweet.append(t)\n",
    "    \n",
    "test_clean_tweet=[]\n",
    "for t in tweets_test['clean_tweet']:\n",
    "    test_clean_tweet.append(t)\n",
    "\n"
   ]
  },
  {
   "cell_type": "code",
   "execution_count": 163,
   "metadata": {
    "collapsed": false
   },
   "outputs": [],
   "source": [
    "# Predict Sentiment of the tweet (Positive = 1, Negative/Neutral = 0) \n",
    "\n",
    "# Reference: http://scikit-learn.org/stable/modules/feature_extraction.html\n",
    "# Build training and test features matrix from relevant clean tweet text\n",
    "from sklearn.feature_extraction.text import CountVectorizer\n",
    "v = CountVectorizer(analyzer = \"word\")\n",
    "train_features = v.fit_transform(train_clean_tweet)\n",
    "test_features  = v.transform(test_clean_tweet)\n",
    "\n",
    "X = train_features\n",
    "y = tweets_train['sentiment']"
   ]
  },
  {
   "cell_type": "code",
   "execution_count": 171,
   "metadata": {
    "collapsed": true
   },
   "outputs": [],
   "source": [
    "# Try different classfier for prediction and compare accuracies\n",
    "Classifiers = [svm.SVC(C=0.1), tree.DecisionTreeClassifier(), KNeighborsClassifier(3)]\n",
    "names = []\n",
    "accuracies = []"
   ]
  },
  {
   "cell_type": "code",
   "execution_count": 184,
   "metadata": {
    "collapsed": false
   },
   "outputs": [
    {
     "name": "stdout",
     "output_type": "stream",
     "text": [
      "Classifier Method:  SVC\n",
      "Training data score:  0.626442015786\n",
      "Test data cross validation score:\n",
      "[ 0.63139932  0.63139932  0.63139932  0.63139932  0.63013699]\n",
      "Accuracy: 0.63 (+/- 0.00)\n",
      " \n",
      "Classifier Method:  DecisionTreeClassifier\n",
      "Training data score:  0.997874924104\n",
      "Test data cross validation score:\n",
      "[ 0.66552901  0.65187713  0.66552901  0.65187713  0.69863014]\n",
      "Accuracy: 0.67 (+/- 0.02)\n",
      " \n",
      "Classifier Method:  KNeighborsClassifier\n",
      "Training data score:  0.741347905282\n",
      "Test data cross validation score:\n",
      "[ 0.46075085  0.4778157   0.45733788  0.47098976  0.46232877]\n",
      "Accuracy: 0.47 (+/- 0.01)\n",
      " \n"
     ]
    }
   ],
   "source": [
    "\n",
    "for C in Classifiers:\n",
    "    print(\"Classifier Method: \", C.__class__.__name__)\n",
    "    names.append(C.__class__.__name__)\n",
    "    clf = C.fit(X,y)\n",
    "    print(\"Training data score: \", clf.score(X,y))\n",
    "    print(\"Test data cross validation score:\")\n",
    "    scores = cross_val_score(clf, test_features, tweets_test['sentiment'], cv=5)\n",
    "    print(scores)\n",
    "    print(\"Accuracy: %0.2f (+/- %0.2f)\" % (scores.mean(), scores.std())) \n",
    "    accuracies.append(scores.mean())\n",
    "    print(\" \")"
   ]
  },
  {
   "cell_type": "code",
   "execution_count": 182,
   "metadata": {
    "collapsed": false
   },
   "outputs": [
    {
     "data": {
      "text/plain": [
       "<matplotlib.text.Text at 0x248ca21bfd0>"
      ]
     },
     "execution_count": 182,
     "metadata": {},
     "output_type": "execute_result"
    },
    {
     "data": {
      "image/png": "[encoded data removed]",
      "text/plain": [
       "<matplotlib.figure.Figure at 0x248b9728f28>"
      ]
     },
     "metadata": {},
     "output_type": "display_data"
    }
   ],
   "source": [
    "%matplotlib inline\n",
    "index = [1,2,3]\n",
    "plt.bar(index,accuracies)\n",
    "plt.xticks(index, names,rotation=45)\n",
    "plt.ylabel('Accuracy')\n",
    "plt.xlabel('Classifier Type')\n",
    "plt.title('Comparing Classifier Accuracy')"
   ]
  },
  {
   "cell_type": "code",
   "execution_count": null,
   "metadata": {
    "collapsed": false
   },
   "outputs": [],
   "source": []
  },
  {
   "cell_type": "code",
   "execution_count": 122,
   "metadata": {
    "collapsed": false
   },
   "outputs": [],
   "source": [
    "# run the K-Means algorithm to find cluster / group of similar observations in the data\n",
    "kmeans = cluster.KMeans(n_clusters=10).fit(train_features)"
   ]
  },
  {
   "cell_type": "code",
   "execution_count": 126,
   "metadata": {
    "collapsed": false
   },
   "outputs": [
    {
     "data": {
      "text/plain": [
       "4"
      ]
     },
     "execution_count": 126,
     "metadata": {},
     "output_type": "execute_result"
    }
   ],
   "source": [
    "# find the cluster of each observation\n",
    "clusters = kmeans.predict(train_features)\n"
   ]
  },
  {
   "cell_type": "markdown",
   "metadata": {},
   "source": [
    "## References:\n",
    "\n",
    "(1) Dataset: https://www.kaggle.com/crowdflower/twitter-airline-sentiment\n",
    "\n",
    "(2) www.nltk.org\n",
    "\n",
    "(3) http://scikit-learn.org/stable/modules/feature_extraction.html"
   ]
  },
  {
   "cell_type": "code",
   "execution_count": null,
   "metadata": {
    "collapsed": true
   },
   "outputs": [],
   "source": []
  }
 ],
 "metadata": {
  "kernelspec": {
   "display_name": "Python [conda root]",
   "language": "python",
   "name": "conda-root-py"
  },
  "language_info": {
   "codemirror_mode": {
    "name": "ipython",
    "version": 3
   },
   "file_extension": ".py",
   "mimetype": "text/x-python",
   "name": "python",
   "nbconvert_exporter": "python",
   "pygments_lexer": "ipython3",
   "version": "3.5.2"
  }
 },
 "nbformat": 4,
 "nbformat_minor": 2
}
